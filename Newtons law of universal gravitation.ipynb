{
 "cells": [
  {
   "cell_type": "markdown",
   "metadata": {},
   "source": [
    "#  Newton's law of universal gravitation"
   ]
  },
  {
   "cell_type": "markdown",
   "metadata": {},
   "source": [
    "## Intro: \n",
    "\n",
    "I will be making a 3D model of a planet orbiting a star using loops updating its position and and velocity using $\\mathbf{v} \\rightarrow \\mathbf{v} - \\frac{GM \\mathbf{r}}{|\\mathbf{r|^3}} \\delta t$ and $\\mathbf{r} \\rightarrow \\mathbf{r} + \\mathbf{v} \\delta t $, with extra challenges of adding an extra planet (in which the gravity of the two planets effect each others orbit) and making a moon that orbits the planet too."
   ]
  },
  {
   "cell_type": "markdown",
   "metadata": {},
   "source": [
    "## One planet orbiting a sun:"
   ]
  },
  {
   "cell_type": "code",
   "execution_count": null,
   "metadata": {},
   "outputs": [],
   "source": [
    "# Template code - copy and paste this into a new Jupyter Notebook\n",
    "\n",
    "from vpython import sphere, vector, color, rate, mag, canvas, label\n",
    "\n",
    "canvas(width = 640, height = 480) # slightly bigger than default, adjust if you have small screen.\n",
    "\n",
    "dt = 0.0001      # timestep\n",
    "step = 1       # loop counter\n",
    "maxstep = 2000 # maximum number of steps\n",
    "\n",
    "#  Define the star, planets and constants\n",
    "M = 1000       # mass of star (in units where G = 1)\n",
    "mass = 1       # mass of planet (\")\n",
    "posn = vector(2,0,0)               # initial position vector of Planet\n",
    "Planet = sphere(pos=posn,radius=0.05*mass,color=color.blue,make_trail=True)\n",
    "Planet.trail_color = color.white # change the trail colour to white, or any colour you fancy\n",
    "Star = sphere(pos=vector(0,0,0),radius=0.1,color=color.yellow)\n",
    "vel = vector(0, -20, 0)               # initial velocity of Planet\n",
    "\n",
    "while step <= maxstep: #repeats loop until the planets position has been updated 2000 times\n",
    "    rate(150) #rate at which the loop operates at\n",
    "    #new velocity and position of the planet\n",
    "    vel = vel - ((M*posn)/mag(posn)**3)*dt\n",
    "    posn = posn + vel*dt\n",
    "    Planet.pos = (posn) #updates the planets position\n",
    "    \n",
    "   ### YOUR CODE HERE ###\n",
    "\n",
    "print(\"end of program\")"
   ]
  },
  {
   "cell_type": "markdown",
   "metadata": {},
   "source": [
    "## Two planets orbiting a sun:"
   ]
  },
  {
   "cell_type": "code",
   "execution_count": null,
   "metadata": {},
   "outputs": [],
   "source": [
    "# Template code - copy and paste this into a new Jupyter Notebook\n",
    "\n",
    "from vpython import sphere, vector, color, rate, mag, canvas, label, arrow\n",
    "\n",
    "canvas(width = 700, height = 550) # slightly bigger than default, adjust if you have small screen.\n",
    "\n",
    "dt = 0.0001      # timestep\n",
    "step = 1       # loop counter\n",
    "maxstep = 2000 # maximum number of steps\n",
    "\n",
    "#  Define the star, planets and constants\n",
    "M = 1000       # mass of star (in units where G = 1)\n",
    "mass = 1 # mass of planets (\")\n",
    "posn = vector(1,0,-0.5) # initial position vector of Planet\n",
    "posn2 = vector(-1.5,0,1) # initial position vector of Planet2\n",
    "# Models planets (3D Model)\n",
    "Planet = sphere(pos=posn,radius=0.05*mass,color=color.blue,make_trail=True)\n",
    "Planet2 = sphere(pos=posn2,radius=0.05*mass,color=color.red,make_trail=True)\n",
    "Star = sphere(pos=vector(0,0,0),radius=0.1,color=color.yellow)\n",
    "# initial velocity of Planets\n",
    "vel = vector(0, -30, 0)     \n",
    "vel2 = vector(10,10,0)\n",
    "#arrow showing the velocity vector on the planet due to the suns gravitational field\n",
    "Parrow = arrow(pos=Planet.pos,axis=(Star.pos-Planet.pos),shaftwidth=0.01,color=color.white)\n",
    "\n",
    "\n",
    "while step <= maxstep: #repeats loop until the planets position has been updated 2000 times\n",
    "    rate(150) #rate at which the loop operates at\n",
    "    #new velocity and position of the planets\n",
    "    vel = vel - ((M*posn)/mag(posn)**3)*dt - ((mass*posn)/mag(posn2-posn)**3)*dt #- ((massMoon*posn)/mag(posn3-posn)**3)*dt\n",
    "    vel2 = vel2 - ((M*posn2)/mag(posn2)**3)*dt - ((mass*posn2)/mag(posn-posn2)**3)*dt #- ((massMoon*posn2)/mag(posn3-posn2)**3)*dt\n",
    "    posn = posn + vel*dt\n",
    "    posn2 = posn2 + vel2*dt\n",
    "    #updates the planets position\n",
    "    Planet.pos = (posn)\n",
    "    Planet2.pos = (posn2)\n",
    "    # Updates planets arrow\n",
    "    Parrow.pos = (Planet.pos)\n",
    "    Parrow.axis = (Star.pos-Planet.pos)\n",
    "    \n",
    "    \n",
    "   ### YOUR CODE HERE ###\n",
    "\n",
    "print(\"end of program\")"
   ]
  },
  {
   "cell_type": "markdown",
   "metadata": {},
   "source": [
    "## Moon orbiting a planet:"
   ]
  },
  {
   "cell_type": "code",
   "execution_count": null,
   "metadata": {},
   "outputs": [],
   "source": [
    "# Template code - copy and paste this into a new Jupyter Notebook\n",
    "\n",
    "from vpython import sphere, vector, color, rate, mag, canvas, label, arrow\n",
    "\n",
    "canvas(width = 640, height = 480) # slightly bigger than default, adjust if you have small screen.\n",
    "\n",
    "dt = 0.0001      # timestep\n",
    "step = 1       # loop counter\n",
    "maxstep = 2000 # maximum number of steps\n",
    "\n",
    "#  Define the star, planets and constants\n",
    "M = 1000       # mass of star (in units where G = 1)\n",
    "mass = 3 # mass of planets (\")\n",
    "massMoon = 0.000000025 #mass of moon\n",
    "#initial position of planets and moon\n",
    "posn = vector(0,5,0)\n",
    "posn3 = posn + vector (0,0.5,0)\n",
    "# Models planet ,star and moon(3D Model)\n",
    "Planet = sphere(pos=posn,radius=0.05*mass,color=color.blue,make_trail=True,retain = 30)\n",
    "Moon = sphere(pos=posn3,radius=0.025*mass,color=color.green,make_trail=True)\n",
    "Star = sphere(pos=vector(0,0,0),radius=0.4,color=color.yellow)\n",
    "# initial velocity of Planet and moon\n",
    "vel = vector(30, 0, 0)     \n",
    "vel3 = vector(28,0,0) #force vector on the planet due to the suns gravitational field\n",
    "Parrow = arrow(pos=Planet.pos,axis=(Star.pos-Planet.pos),shaftwidth=0.01,color=color.white)\n",
    "\n",
    "\n",
    "while step <= maxstep: #repeats loop until the planets position has been updated 2000 times\n",
    "    rate(150) #rate at which the loop operates at\n",
    "    #new velocity and position of the planet and moon\n",
    "    vel = vel - ((M*posn)/mag(posn)**3)*dt\n",
    "    vel3 = vel3 - ((M*posn3)/mag(posn3)**3)*dt - ((mass*posn3)/mag(posn-posn3)**3)*dt\n",
    "    posn = posn + vel*dt\n",
    "    posn3 = posn3 + vel3*dt\n",
    "    #updates the planet and moons position\n",
    "    Planet.pos = (posn)\n",
    "    Moon.pos = (posn3)\n",
    "    # Updates planets arrow\n",
    "    Parrow.pos = (Planet.pos)\n",
    "    Parrow.axis = (Star.pos-Planet.pos)\n",
    "    \n",
    "    \n",
    "   ### YOUR CODE HERE ###\n",
    "\n",
    "print(\"end of program\")"
   ]
  },
  {
   "cell_type": "code",
   "execution_count": null,
   "metadata": {},
   "outputs": [],
   "source": []
  }
 ],
 "metadata": {
  "kernelspec": {
   "display_name": "Python 3 (ipykernel)",
   "language": "python",
   "name": "python3"
  },
  "language_info": {
   "codemirror_mode": {
    "name": "ipython",
    "version": 3
   },
   "file_extension": ".py",
   "mimetype": "text/x-python",
   "name": "python",
   "nbconvert_exporter": "python",
   "pygments_lexer": "ipython3",
   "version": "3.9.12"
  }
 },
 "nbformat": 4,
 "nbformat_minor": 2
}
